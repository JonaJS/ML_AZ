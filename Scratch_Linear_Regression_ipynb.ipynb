{
  "nbformat": 4,
  "nbformat_minor": 0,
  "metadata": {
    "colab": {
      "provenance": [],
      "authorship_tag": "ABX9TyPJAV4LO71hlDn42YJASTZJ",
      "include_colab_link": true
    },
    "kernelspec": {
      "name": "python3",
      "display_name": "Python 3"
    },
    "language_info": {
      "name": "python"
    }
  },
  "cells": [
    {
      "cell_type": "markdown",
      "metadata": {
        "id": "view-in-github",
        "colab_type": "text"
      },
      "source": [
        "<a href=\"https://colab.research.google.com/github/JonaJS/ML_AZ/blob/main/Scratch_Linear_Regression_ipynb.ipynb\" target=\"_parent\"><img src=\"https://colab.research.google.com/assets/colab-badge.svg\" alt=\"Open In Colab\"/></a>"
      ]
    },
    {
      "cell_type": "code",
      "execution_count": 1,
      "metadata": {
        "id": "QLQnKFKAKhko"
      },
      "outputs": [],
      "source": [
        "import numpy as np"
      ]
    },
    {
      "cell_type": "code",
      "source": [
        "class Linear_Regression:\n",
        "  def __init__(self, lr=0.001, n_iters=1000):\n",
        "    self.lr = 0.001\n",
        "    self.n_iters = n_iters\n",
        "    self.weight = None\n",
        "    self.bias - None\n",
        "\n",
        "  def fit(self, X, y):\n",
        "    n_samples, n_features = X.shape\n",
        "    self.weight = np.zeros(n_features)\n",
        "    self.bias = 0\n",
        "\n",
        "    for _ in range(self.n_iters)\n",
        "      y_pred = np.dot(X, self.weight) + self.bias\n",
        "\n",
        "      dw = (1/n_samples) * np.dot(X,(y_pred - y))\n",
        "      db = (1/n_samples) * np.sum(y_pred - y)\n",
        "\n",
        "      self.weight = self.weight - self.lr * dw\n",
        "      self.bias = self.bias - self.lr * db\n",
        "\n",
        "  def predict(self, X):\n",
        "    y_pred = np.dot(X, self.weight) + self.bias\n",
        "    return y_pred"
      ],
      "metadata": {
        "id": "J_duwv-6mshb"
      },
      "execution_count": null,
      "outputs": []
    }
  ]
}