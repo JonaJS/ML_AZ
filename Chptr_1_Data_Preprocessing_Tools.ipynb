{
  "nbformat": 4,
  "nbformat_minor": 0,
  "metadata": {
    "colab": {
      "provenance": [],
      "authorship_tag": "ABX9TyM7FUdvqAhdm6dtD5mjYH/c",
      "include_colab_link": true
    },
    "kernelspec": {
      "name": "python3",
      "display_name": "Python 3"
    },
    "language_info": {
      "name": "python"
    }
  },
  "cells": [
    {
      "cell_type": "markdown",
      "metadata": {
        "id": "view-in-github",
        "colab_type": "text"
      },
      "source": [
        "<a href=\"https://colab.research.google.com/github/JonaJS/ML_AZ/blob/main/Chptr_1_Data_Preprocessing_Tools.ipynb\" target=\"_parent\"><img src=\"https://colab.research.google.com/assets/colab-badge.svg\" alt=\"Open In Colab\"/></a>"
      ]
    },
    {
      "cell_type": "markdown",
      "source": [
        "# Data Preprocessing Tools."
      ],
      "metadata": {
        "id": "SBA_T3UvwNc7"
      }
    },
    {
      "cell_type": "markdown",
      "source": [
        "## Importing the libraries."
      ],
      "metadata": {
        "id": "72UY4co_wRqG"
      }
    },
    {
      "cell_type": "code",
      "source": [
        "import pandas as pd\n",
        "import numpy as np\n",
        "import matplotlib.pyplot as plt"
      ],
      "metadata": {
        "id": "UDQ2VQv-IQKY"
      },
      "execution_count": 1,
      "outputs": []
    },
    {
      "cell_type": "markdown",
      "source": [
        "## Importing the dataset."
      ],
      "metadata": {
        "id": "sQakINrVwY9N"
      }
    },
    {
      "cell_type": "code",
      "source": [
        "dataset = pd.read_csv(\"Data.csv\")"
      ],
      "metadata": {
        "id": "7FUCa8tqPLff"
      },
      "execution_count": 9,
      "outputs": []
    },
    {
      "cell_type": "code",
      "source": [
        "dataset.head()\n",
        "X = dataset.iloc[:, :-1].values\n",
        "y = dataset.iloc[:, -1]"
      ],
      "metadata": {
        "id": "2_2VH_sIPZxq"
      },
      "execution_count": 10,
      "outputs": []
    },
    {
      "cell_type": "code",
      "source": [
        "X"
      ],
      "metadata": {
        "colab": {
          "base_uri": "https://localhost:8080/"
        },
        "id": "dqrW1i72SZbt",
        "outputId": "99d271fb-68ea-44fa-c09a-fd0f68159809"
      },
      "execution_count": 11,
      "outputs": [
        {
          "output_type": "execute_result",
          "data": {
            "text/plain": [
              "array([['France', 44.0, 72000.0],\n",
              "       ['Spain', 27.0, 48000.0],\n",
              "       ['Germany', 30.0, 54000.0],\n",
              "       ['Spain', 38.0, 61000.0],\n",
              "       ['Germany', 40.0, nan],\n",
              "       ['France', 35.0, 58000.0],\n",
              "       ['Spain', nan, 52000.0],\n",
              "       ['France', 48.0, 79000.0],\n",
              "       ['Germany', 50.0, 83000.0],\n",
              "       ['France', 37.0, 67000.0]], dtype=object)"
            ]
          },
          "metadata": {},
          "execution_count": 11
        }
      ]
    },
    {
      "cell_type": "code",
      "source": [
        "y"
      ],
      "metadata": {
        "colab": {
          "base_uri": "https://localhost:8080/"
        },
        "id": "jkJfm-V2Sb9-",
        "outputId": "25490933-b2be-4ea0-8a5d-defe7fe402dd"
      },
      "execution_count": 12,
      "outputs": [
        {
          "output_type": "execute_result",
          "data": {
            "text/plain": [
              "0     No\n",
              "1    Yes\n",
              "2     No\n",
              "3     No\n",
              "4    Yes\n",
              "5    Yes\n",
              "6     No\n",
              "7    Yes\n",
              "8     No\n",
              "9    Yes\n",
              "Name: Purchased, dtype: object"
            ]
          },
          "metadata": {},
          "execution_count": 12
        }
      ]
    },
    {
      "cell_type": "markdown",
      "source": [
        "## Taking care of missing data."
      ],
      "metadata": {
        "id": "wY-UM8gWwhCk"
      }
    },
    {
      "cell_type": "markdown",
      "source": [
        "## Encoding categorical data."
      ],
      "metadata": {
        "id": "HfA7Es6awomw"
      }
    },
    {
      "cell_type": "markdown",
      "source": [
        "### Encoding the independent variable."
      ],
      "metadata": {
        "id": "6U7aSWo0wt--"
      }
    },
    {
      "cell_type": "markdown",
      "source": [
        "### Encoding the dependent variable."
      ],
      "metadata": {
        "id": "6L8b4DHwwzFO"
      }
    },
    {
      "cell_type": "markdown",
      "source": [
        "## Splitting the dataset into the training set and the test set."
      ],
      "metadata": {
        "id": "4g74eCzsxEG6"
      }
    },
    {
      "cell_type": "markdown",
      "source": [
        "## Feature scaling."
      ],
      "metadata": {
        "id": "YAT4bD1axTjW"
      }
    }
  ]
}